{
  "nbformat": 4,
  "nbformat_minor": 0,
  "metadata": {
    "colab": {
      "provenance": [],
      "include_colab_link": true
    },
    "kernelspec": {
      "name": "python3",
      "display_name": "Python 3"
    }
  },
  "cells": [
    {
      "cell_type": "markdown",
      "metadata": {
        "id": "view-in-github",
        "colab_type": "text"
      },
      "source": [
        "<a href=\"https://colab.research.google.com/github/0xrakesh/machine-learning-with-tensorflow/blob/main/tensorflow.ipynb\" target=\"_parent\"><img src=\"https://colab.research.google.com/assets/colab-badge.svg\" alt=\"Open In Colab\"/></a>"
      ]
    },
    {
      "cell_type": "markdown",
      "source": [
        "# Tensor Learning\n"
      ],
      "metadata": {
        "id": "7P6mUhzAe8AP"
      }
    },
    {
      "cell_type": "markdown",
      "source": [
        "# Variable\n",
        "You simply define the value of the tensor and the datatype and you are good to go! It's worth mentioning that usually we deal with tensors of numeric data, it is quite rare to see string tensors."
      ],
      "metadata": {
        "id": "Ub94PX8gh_MI"
      }
    },
    {
      "cell_type": "code",
      "source": [
        "import tensorflow as tf"
      ],
      "metadata": {
        "id": "_vMTrUDfe-DG"
      },
      "execution_count": 2,
      "outputs": []
    },
    {
      "cell_type": "code",
      "source": [
        "string = tf.Variable(\"Hello\",tf.string)\n",
        "print(string)"
      ],
      "metadata": {
        "id": "naFLwYC7fD5X",
        "outputId": "602257a1-7230-41b2-ebaa-3d6598c4f11a",
        "colab": {
          "base_uri": "https://localhost:8080/"
        }
      },
      "execution_count": 5,
      "outputs": [
        {
          "output_type": "stream",
          "name": "stdout",
          "text": [
            "<tf.Variable 'Variable:0' shape=() dtype=string, numpy=b'Hello'>\n"
          ]
        }
      ]
    },
    {
      "cell_type": "markdown",
      "source": [
        "## Constant\n",
        "A Variable, which cannot be changed."
      ],
      "metadata": {
        "id": "8XcDqd0bI0qK"
      }
    },
    {
      "cell_type": "code",
      "source": [
        "t = tf.constant([[1,1],[1,2]]);"
      ],
      "metadata": {
        "id": "d5kl1oxlI5Z7"
      },
      "execution_count": 11,
      "outputs": []
    },
    {
      "cell_type": "markdown",
      "source": [
        "## Rank/Degree\n",
        "Another word for rank is degree, these terms simply mean the number of dimensions involved in the tensor. What we created above is a tensor of rank 0, also known as a scalar."
      ],
      "metadata": {
        "id": "tIorCCPyh4RA"
      }
    },
    {
      "cell_type": "code",
      "source": [
        "integer = tf.Variable(1,tf.int8)\n",
        "print(integer)"
      ],
      "metadata": {
        "id": "wT9iqUZpfOGj",
        "outputId": "7fba564e-4b4b-4a14-c3ad-6e8a60208397",
        "colab": {
          "base_uri": "https://localhost:8080/"
        }
      },
      "execution_count": 3,
      "outputs": [
        {
          "output_type": "stream",
          "name": "stdout",
          "text": [
            "<tf.Variable 'Variable:0' shape=() dtype=int32, numpy=1>\n"
          ]
        }
      ]
    },
    {
      "cell_type": "code",
      "source": [
        "scalar = tf.Variable(1,tf.int8)\n",
        "one_dim = tf.Variable([1],tf.int8)\n",
        "two_dim = tf.Variable([['hi','hi'],['hi','hi']], tf.string)\n",
        "two_dim_dif = tf.Variable([['hi','hi','hi'],['hi','hi','hi']], tf.string)"
      ],
      "metadata": {
        "id": "LeZV78AZhHug"
      },
      "execution_count": 15,
      "outputs": []
    },
    {
      "cell_type": "markdown",
      "source": [
        "## Shape\n",
        "\n",
        "### tf.shape(variable)\n",
        "How many items having in the each dimensions.\n",
        "Returns a tensor containing the shape of the input tensor.<br/>\n",
        "\n",
        "tf.shape returns a 1-D integer tensor representing the shape of input. For a scalar input, the tensor returned has a shape of (0,) and its value is the empty vector (i.e. []).\n",
        "\n",
        "### variable.shape\n",
        "tf.shape and Tensor.shape should be identical in eager mode. Within tf.function or within a compat.v1 context, not all dimensions may be known until execution time. Hence, when defining custom layers and models for graph mode, prefer the dynamic tf.shape(x) over the static x.shape.\n",
        "\n"
      ],
      "metadata": {
        "id": "GrCwxl0_iPrR"
      }
    },
    {
      "cell_type": "code",
      "source": [
        "tf.shape(scalar)"
      ],
      "metadata": {
        "id": "wceJzOSeiVDR",
        "outputId": "2b5cb924-0425-48b8-a73c-47a79851c4f2",
        "colab": {
          "base_uri": "https://localhost:8080/"
        }
      },
      "execution_count": 28,
      "outputs": [
        {
          "output_type": "execute_result",
          "data": {
            "text/plain": [
              "<tf.Tensor: shape=(0,), dtype=int32, numpy=array([], dtype=int32)>"
            ]
          },
          "metadata": {},
          "execution_count": 28
        }
      ]
    },
    {
      "cell_type": "code",
      "source": [
        "print(scalar.shape)"
      ],
      "metadata": {
        "id": "19vkU6c4KSFW",
        "outputId": "8ff2b376-cda2-4f1b-9ef8-a04dffb7e717",
        "colab": {
          "base_uri": "https://localhost:8080/"
        }
      },
      "execution_count": 18,
      "outputs": [
        {
          "output_type": "stream",
          "name": "stdout",
          "text": [
            "()\n"
          ]
        }
      ]
    },
    {
      "cell_type": "code",
      "source": [
        "tf.shape(one_dim)"
      ],
      "metadata": {
        "id": "L6HVlTPxKXJJ",
        "outputId": "faecca95-5519-403a-f88d-d08086e36beb",
        "colab": {
          "base_uri": "https://localhost:8080/"
        }
      },
      "execution_count": 20,
      "outputs": [
        {
          "output_type": "execute_result",
          "data": {
            "text/plain": [
              "<tf.Tensor: shape=(1,), dtype=int32, numpy=array([1], dtype=int32)>"
            ]
          },
          "metadata": {},
          "execution_count": 20
        }
      ]
    },
    {
      "cell_type": "code",
      "source": [
        "print(one_dim.shape)"
      ],
      "metadata": {
        "id": "K_VD9b7gKcsy",
        "outputId": "f88382d9-e43d-422c-cf5d-8a6551a3495a",
        "colab": {
          "base_uri": "https://localhost:8080/"
        }
      },
      "execution_count": 22,
      "outputs": [
        {
          "output_type": "stream",
          "name": "stdout",
          "text": [
            "(1,)\n"
          ]
        }
      ]
    },
    {
      "cell_type": "code",
      "source": [
        "tf.shape(two_dim)"
      ],
      "metadata": {
        "id": "o5rBtJNRKiGZ",
        "outputId": "367af8e8-4473-495e-f54a-c5de1d661741",
        "colab": {
          "base_uri": "https://localhost:8080/"
        }
      },
      "execution_count": 23,
      "outputs": [
        {
          "output_type": "execute_result",
          "data": {
            "text/plain": [
              "<tf.Tensor: shape=(2,), dtype=int32, numpy=array([2, 2], dtype=int32)>"
            ]
          },
          "metadata": {},
          "execution_count": 23
        }
      ]
    },
    {
      "cell_type": "code",
      "source": [
        "print(two_dim.shape)"
      ],
      "metadata": {
        "id": "p-eJX14QKlbt",
        "outputId": "6825a777-3963-4b7b-b98a-a55f0ae0ae49",
        "colab": {
          "base_uri": "https://localhost:8080/"
        }
      },
      "execution_count": 24,
      "outputs": [
        {
          "output_type": "stream",
          "name": "stdout",
          "text": [
            "(2, 2)\n"
          ]
        }
      ]
    },
    {
      "cell_type": "code",
      "source": [
        "tf.shape(two_dim_dif)"
      ],
      "metadata": {
        "id": "Cnkmw3KMKota",
        "outputId": "cf3a3ef8-a3a6-4784-92d2-d29c1691f5a1",
        "colab": {
          "base_uri": "https://localhost:8080/"
        }
      },
      "execution_count": 25,
      "outputs": [
        {
          "output_type": "execute_result",
          "data": {
            "text/plain": [
              "<tf.Tensor: shape=(2,), dtype=int32, numpy=array([2, 3], dtype=int32)>"
            ]
          },
          "metadata": {},
          "execution_count": 25
        }
      ]
    },
    {
      "cell_type": "code",
      "source": [
        "print(two_dim_dif.shape)"
      ],
      "metadata": {
        "id": "ePI49pnVKtoD",
        "outputId": "2280dbac-b0d9-478d-edf2-937c6edaf0a5",
        "colab": {
          "base_uri": "https://localhost:8080/"
        }
      },
      "execution_count": 26,
      "outputs": [
        {
          "output_type": "stream",
          "name": "stdout",
          "text": [
            "(2, 3)\n"
          ]
        }
      ]
    }
  ]
}